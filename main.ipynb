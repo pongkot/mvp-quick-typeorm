{
 "cells": [
  {
   "cell_type": "markdown",
   "metadata": {},
   "source": [
    "# Quick TypeORM (MVP)"
   ]
  },
  {
   "cell_type": "markdown",
   "metadata": {},
   "source": [
    "### 1. Define your model\n",
    "\n",
    "Write your TypeScript model in context below."
   ]
  },
  {
   "cell_type": "code",
   "execution_count": null,
   "metadata": {},
   "outputs": [],
   "source": [
    "context = \"\"\"\n",
    "Insert model in TypeScript here!\n",
    "\"\"\"\n"
   ]
  },
  {
   "cell_type": "markdown",
   "metadata": {},
   "source": [
    "### 2. Create your translate model to TypeORM model's prompt"
   ]
  },
  {
   "cell_type": "code",
   "execution_count": null,
   "metadata": {},
   "outputs": [],
   "source": [
    "order = \"\"\"\n",
    "Assignment\n",
    "Convert above model to TypeORM model.\n",
    "\n",
    "Additional\n",
    "1. set export default at class name\n",
    "2. property type Date if not assign type then use date type and set default is null\n",
    "2. use @CreateDateColumn()\n",
    "3. use @UpdateDateColumn()\n",
    "4. use @DeleteDateColumn()\n",
    "\"\"\"\n",
    "prompt = context + order\n",
    "\n",
    "print(prompt)"
   ]
  },
  {
   "cell_type": "markdown",
   "metadata": {},
   "source": [
    "### 3. Request to generate TypeORM model with OpenAI"
   ]
  },
  {
   "cell_type": "code",
   "execution_count": null,
   "metadata": {},
   "outputs": [],
   "source": [
    "import requests\n",
    "import json\n",
    "import environ\n",
    "\n",
    "environ.Env.read_env(env_file=\".env\")\n",
    "\n",
    "env = environ.Env(DEBUG=(bool, False))\n",
    "api_key = env(\"API_KEY\")\n",
    "url = \"https://api.openai.com/v1/chat/completions\"\n",
    "payload = json.dumps(\n",
    "    {\n",
    "        \"model\": \"gpt-3.5-turbo\",\n",
    "        \"messages\": [\n",
    "            {\n",
    "                \"role\": \"system\",\n",
    "                \"content\": json.dumps(prompt),\n",
    "            }\n",
    "        ],\n",
    "        \"temperature\": 0.7,\n",
    "    }\n",
    ")\n",
    "headers = {\n",
    "    \"Content-Type\": \"application/json\",\n",
    "    \"Authorization\": f\"Bearer {api_key}\",\n",
    "}\n",
    "response = requests.request(\"POST\", url, headers=headers, data=payload)\n",
    "\n",
    "print(\"Generate successful.\")"
   ]
  },
  {
   "cell_type": "markdown",
   "metadata": {},
   "source": [
    "### Result"
   ]
  },
  {
   "cell_type": "code",
   "execution_count": null,
   "metadata": {},
   "outputs": [],
   "source": [
    "print(response.json()[\"choices\"][0][\"message\"][\"content\"])"
   ]
  }
 ],
 "metadata": {
  "kernelspec": {
   "display_name": "Python 3",
   "language": "python",
   "name": "python3"
  },
  "language_info": {
   "codemirror_mode": {
    "name": "ipython",
    "version": 3
   },
   "file_extension": ".py",
   "mimetype": "text/x-python",
   "name": "python",
   "nbconvert_exporter": "python",
   "pygments_lexer": "ipython3",
   "version": "3.11.7"
  }
 },
 "nbformat": 4,
 "nbformat_minor": 2
}
